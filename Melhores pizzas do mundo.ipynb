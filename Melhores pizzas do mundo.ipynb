{
 "cells": [
  {
   "cell_type": "markdown",
   "metadata": {
    "slideshow": {
     "slide_type": "slide"
    }
   },
   "source": [
    "# 10 melhores pizzas da *Pizzaria Bate Papo*\n"
   ]
  },
  {
   "cell_type": "markdown",
   "metadata": {
    "slideshow": {
     "slide_type": "slide"
    }
   },
   "source": [
    "### 10° - Pizza Agridoce"
   ]
  },
  {
   "cell_type": "markdown",
   "metadata": {
    "slideshow": {
     "slide_type": "fragment"
    }
   },
   "source": [
    "![agridoce](https://img.huffingtonpost.com/asset/5c3752902600003e05866927.jpeg?ops=scalefit_630_noupscale)"
   ]
  },
  {
   "cell_type": "markdown",
   "metadata": {
    "slideshow": {
     "slide_type": "slide"
    }
   },
   "source": [
    "### 9° - Pizza de Frango Assado"
   ]
  },
  {
   "cell_type": "markdown",
   "metadata": {
    "slideshow": {
     "slide_type": "fragment"
    }
   },
   "source": [
    "![frango assado](https://img.huffingtonpost.com/asset/5c375290210000d409cc15ab.jpeg?ops=scalefit_630_noupscale)"
   ]
  },
  {
   "cell_type": "markdown",
   "metadata": {
    "slideshow": {
     "slide_type": "slide"
    }
   },
   "source": [
    "### 8° - Pizza de Chocotone"
   ]
  },
  {
   "cell_type": "markdown",
   "metadata": {
    "slideshow": {
     "slide_type": "fragment"
    }
   },
   "source": [
    "![chocotone](https://imagesapt.apontador-assets.com/fit-in/640x480/385fbb310ba045ffb28a4d13f04f4b28/pizzaria-bate-papo.jpg)"
   ]
  },
  {
   "cell_type": "markdown",
   "metadata": {
    "slideshow": {
     "slide_type": "slide"
    }
   },
   "source": [
    "### 7° - Pizza de Queijo"
   ]
  },
  {
   "cell_type": "markdown",
   "metadata": {
    "slideshow": {
     "slide_type": "fragment"
    }
   },
   "source": [
    "![queijo](https://img.huffingtonpost.com/asset/5c3752902300005e003e110c.jpeg?ops=scalefit_630_noupscale)"
   ]
  },
  {
   "cell_type": "markdown",
   "metadata": {
    "slideshow": {
     "slide_type": "slide"
    }
   },
   "source": [
    "### 6° - Pizza de Coca-Cola "
   ]
  },
  {
   "attachments": {},
   "cell_type": "markdown",
   "metadata": {
    "slideshow": {
     "slide_type": "fragment"
    }
   },
   "source": [
    "![coca](https://img.huffingtonpost.com/asset/5c3752911f00002f0928257d.jpeg?ops=scalefit_630_noupscale)"
   ]
  },
  {
   "cell_type": "markdown",
   "metadata": {
    "slideshow": {
     "slide_type": "slide"
    }
   },
   "source": [
    "### 5° - Pizza Oriental"
   ]
  },
  {
   "cell_type": "markdown",
   "metadata": {
    "slideshow": {
     "slide_type": "fragment"
    }
   },
   "source": [
    "![oriental](https://img.huffingtonpost.com/asset/5c3752913c0000800610a5fb.jpeg?ops=scalefit_630_noupscale)"
   ]
  },
  {
   "cell_type": "markdown",
   "metadata": {
    "slideshow": {
     "slide_type": "slide"
    }
   },
   "source": [
    "### 4° - Pizza de Banana"
   ]
  },
  {
   "cell_type": "markdown",
   "metadata": {
    "slideshow": {
     "slide_type": "fragment"
    }
   },
   "source": [
    "![banana](https://img.huffingtonpost.com/asset/5c3752912400005100625989.jpeg?ops=scalefit_630_noupscale)"
   ]
  },
  {
   "cell_type": "markdown",
   "metadata": {
    "slideshow": {
     "slide_type": "slide"
    }
   },
   "source": [
    "### 3° - Pizza Sextou"
   ]
  },
  {
   "cell_type": "markdown",
   "metadata": {
    "slideshow": {
     "slide_type": "fragment"
    }
   },
   "source": [
    "![sextou](https://img.huffingtonpost.com/asset/5c375292210000d409cc15af.jpeg?ops=scalefit_630_noupscale)"
   ]
  },
  {
   "cell_type": "markdown",
   "metadata": {
    "slideshow": {
     "slide_type": "slide"
    }
   },
   "source": [
    "## 2° - Pizza Júnior"
   ]
  },
  {
   "cell_type": "markdown",
   "metadata": {
    "slideshow": {
     "slide_type": "fragment"
    }
   },
   "source": [
    "![jr](https://s2.glbimg.com/0MKQo1U8ev9jSdHG0sCgsaN-8fs=/e.glbimg.com/og/ed/f/original/2018/07/10/pizzzaria_batepapo.jpg)"
   ]
  },
  {
   "cell_type": "markdown",
   "metadata": {
    "slideshow": {
     "slide_type": "slide"
    }
   },
   "source": [
    "## 1° - Pizza de Pizzaiolo"
   ]
  },
  {
   "cell_type": "markdown",
   "metadata": {
    "slideshow": {
     "slide_type": "fragment"
    }
   },
   "source": [
    "![pizzaiolo](http://www.pizzariabatepapo.com.br/images/6430_pizzariabatepapo-12-jpg.jpeg)"
   ]
  },
  {
   "cell_type": "code",
   "execution_count": 4,
   "metadata": {},
   "outputs": [
    {
     "name": "stdout",
     "output_type": "stream",
     "text": [
      "Loading channels: done\n",
      "No match found for: texlive. Search: *texlive*\n",
      "# Name                       Version           Build  Channel             \n",
      "texlive-core                20170520 pl526hcfff585_3  pkgs/main           \n",
      "texlive-core                20180414      hc8d0b01_0  pkgs/main           \n"
     ]
    }
   ],
   "source": [
    "!conda search texlive"
   ]
  },
  {
   "cell_type": "code",
   "execution_count": null,
   "metadata": {},
   "outputs": [],
   "source": []
  }
 ],
 "metadata": {
  "celltoolbar": "Slideshow",
  "kernelspec": {
   "display_name": "Python [conda env:jupyterteste] *",
   "language": "python",
   "name": "conda-env-jupyterteste-py"
  },
  "language_info": {
   "codemirror_mode": {
    "name": "ipython",
    "version": 3
   },
   "file_extension": ".py",
   "mimetype": "text/x-python",
   "name": "python",
   "nbconvert_exporter": "python",
   "pygments_lexer": "ipython3",
   "version": "3.7.4"
  }
 },
 "nbformat": 4,
 "nbformat_minor": 2
}
